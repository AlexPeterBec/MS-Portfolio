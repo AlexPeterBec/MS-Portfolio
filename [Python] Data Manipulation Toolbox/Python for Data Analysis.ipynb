{
 "cells": [
  {
   "cell_type": "code",
   "execution_count": 4,
   "metadata": {
    "ExecuteTime": {
     "end_time": "2018-11-18T15:49:10.014339Z",
     "start_time": "2018-11-18T15:49:06.986003Z"
    },
    "collapsed": true
   },
   "outputs": [],
   "source": [
    "import numpy as np\n",
    "import pandas as pd"
   ]
  },
  {
   "cell_type": "markdown",
   "metadata": {
    "heading_collapsed": true
   },
   "source": [
    "# Data Manipulation Toolbox\n",
    "\n",
    "\n",
    "Entrainement Pandas : \n",
    "\n",
    "https://tanthiamhuat.files.wordpress.com/2018/04/pythondatasciencehandbook.pdf"
   ]
  },
  {
   "cell_type": "code",
   "execution_count": 1,
   "metadata": {
    "ExecuteTime": {
     "end_time": "2018-11-13T20:48:19.691108Z",
     "start_time": "2018-11-13T20:48:12.518511Z"
    },
    "collapsed": true,
    "hidden": true
   },
   "outputs": [],
   "source": [
    "import pandas as pd\n",
    "import matplotlib.pyplot as plt"
   ]
  },
  {
   "cell_type": "code",
   "execution_count": 2,
   "metadata": {
    "ExecuteTime": {
     "end_time": "2018-11-13T20:48:24.919710Z",
     "start_time": "2018-11-13T20:48:24.806991Z"
    },
    "hidden": true,
    "scrolled": true
   },
   "outputs": [
    {
     "name": "stdout",
     "output_type": "stream",
     "text": [
      "  column1\n",
      "0       3\n",
      "1       2\n",
      "2       2\n",
      "3       2\n"
     ]
    }
   ],
   "source": [
    "# Single Line DataFrame\n",
    "line = [\"3\",\"2\",\"2\",\"2\",\"1\",\"2\",\"2\",\"2\",\"2\",\"1\",\"2\",\"2\"]\n",
    "df_single = pd.DataFrame({'column1':line})\n",
    "print(df_single.head(4))"
   ]
  },
  {
   "cell_type": "code",
   "execution_count": 27,
   "metadata": {
    "hidden": true
   },
   "outputs": [
    {
     "data": {
      "image/png": "[encoded data removed]",
      "text/plain": [
       "<matplotlib.figure.Figure at 0x11a522860>"
      ]
     },
     "metadata": {},
     "output_type": "display_data"
    }
   ],
   "source": [
    "# Histogramme : Distribution d'une variable\n",
    "\n",
    "groupby_family = df_single['column1'].groupby(df_single['column1']).count()\n",
    "plt.figure()\n",
    "plt.hist(groupby_family, normed=True)\n",
    "plt.xlabel('Number of children', fontsize=18)\n",
    "plt.ylabel('Density', fontsize=18)\n",
    "plt.title(\"Nombre d'enfants par famille\")\n",
    "plt.show()"
   ]
  },
  {
   "cell_type": "markdown",
   "metadata": {
    "collapsed": true
   },
   "source": [
    "# Pandas Objects"
   ]
  },
  {
   "cell_type": "markdown",
   "metadata": {
    "heading_collapsed": true
   },
   "source": [
    "## Series"
   ]
  },
  {
   "cell_type": "code",
   "execution_count": 5,
   "metadata": {
    "ExecuteTime": {
     "end_time": "2018-11-18T15:49:11.206438Z",
     "start_time": "2018-11-18T15:49:11.193697Z"
    },
    "hidden": true
   },
   "outputs": [
    {
     "name": "stdout",
     "output_type": "stream",
     "text": [
      "[0.1 0.5 1.  0.8 0.4 0.3 0.4]\n",
      "RangeIndex(start=0, stop=7, step=1)\n",
      "0.3\n",
      "0    0.1\n",
      "1    0.5\n",
      "2    1.0\n",
      "dtype: float64\n"
     ]
    }
   ],
   "source": [
    "# Une série est l'association d'une séquence de valeurs, et une séquence d'index.\n",
    "\n",
    "serie = pd.Series([0.1, 0.5, 1, 0.8, 0.4, 0.3, 0.4])\n",
    "print(serie.values)\n",
    "print(serie.index)\n",
    "\n",
    "# Les données sont accessibles par index\n",
    "\n",
    "print(serie[5]) # 0.3\n",
    "print(serie[0:3])"
   ]
  },
  {
   "cell_type": "markdown",
   "metadata": {
    "hidden": true
   },
   "source": [
    "La difference des Series avec un simple array Numpy se situe au niveau de l'index\n",
    "- Numpy possède un index défini implicitement, utilisé pour accéder aux données.\n",
    "- Pandas Series possède un index défini explicitement, associé aux valeurs.\n",
    "\n",
    "Ainsi, la Series possède des capacités supplémentaires. Par exemple, l'index n'a pas besoin d'être un entier et peut être de n'importe quel type, strings par exemple."
   ]
  },
  {
   "cell_type": "code",
   "execution_count": 21,
   "metadata": {
    "ExecuteTime": {
     "end_time": "2018-11-13T21:15:27.120481Z",
     "start_time": "2018-11-13T21:15:27.106355Z"
    },
    "hidden": true
   },
   "outputs": [
    {
     "name": "stdout",
     "output_type": "stream",
     "text": [
      "a    0.1\n",
      "b    0.5\n",
      "c    1.0\n",
      "d    0.8\n",
      "e    0.4\n",
      "f    0.3\n",
      "g    0.4\n",
      "dtype: float64\n",
      "0.1\n"
     ]
    }
   ],
   "source": [
    "serie = pd.Series(data=[0.1, 0.5, 1, 0.8, 0.4, 0.3, 0.4],\n",
    "                 index=['a', 'b', 'c', 'd', 'e', 'f', 'g'])\n",
    "print(serie)\n",
    "\n",
    "# On y accède donc par l'index \n",
    "print(serie['a'])"
   ]
  },
  {
   "cell_type": "markdown",
   "metadata": {
    "heading_collapsed": true,
    "hidden": true
   },
   "source": [
    "### Les series comme des dictionnaires spéciaux\n",
    "\n",
    "- Un dict est une structure qui relie des clés, à un ensemble de valeurs.\n",
    "- Une Series est une structure qui relie des clés typés à un ensemble de valeurs typées.\n",
    "\n",
    "Cette difference dans le typage est importante : Là où le code spécifique aux types de données derrière un array Numpy rend certaines opérations plus rapides, le type dans dans une Series Pandas rend plus efficace certaines opérations par rapport aux dictionnaires.\n",
    "\n",
    "Avantage par rapport aux dictionnaires, la Series supporte les opérations d'arrays comme le slicing."
   ]
  },
  {
   "cell_type": "code",
   "execution_count": 26,
   "metadata": {
    "ExecuteTime": {
     "end_time": "2018-11-13T21:28:24.078829Z",
     "start_time": "2018-11-13T21:28:24.064549Z"
    },
    "hidden": true
   },
   "outputs": [
    {
     "name": "stdout",
     "output_type": "stream",
     "text": [
      "California    38332521\n",
      "Texas         26448193\n",
      "New York      19651127\n",
      "Florida       19552860\n",
      "Illinois      12882135\n",
      "dtype: int64\n",
      "38332521\n",
      "California    38332521\n",
      "Texas         26448193\n",
      "New York      19651127\n",
      "dtype: int64\n"
     ]
    }
   ],
   "source": [
    "population_dict = {\n",
    "    'California':38332521,\n",
    "    'Texas':26448193,\n",
    "    'New York':19651127,\n",
    "    'Florida':19552860,\n",
    "    'Illinois':12882135\n",
    "}\n",
    "\n",
    "# La Series est crée à partir des clés ordonnées\n",
    "population_serie = pd.Series(population_dict)\n",
    "print(population_serie)\n",
    "print(population_serie['California'])\n",
    "print(population_serie['California':'New York'])"
   ]
  },
  {
   "cell_type": "markdown",
   "metadata": {
    "hidden": true
   },
   "source": [
    "### Création de Series\n",
    "\n",
    "DOC : ** serie = pd.Series(data, index=index) **"
   ]
  },
  {
   "cell_type": "code",
   "execution_count": 30,
   "metadata": {
    "ExecuteTime": {
     "end_time": "2018-11-13T21:34:35.543961Z",
     "start_time": "2018-11-13T21:34:35.527261Z"
    },
    "collapsed": true,
    "hidden": true
   },
   "outputs": [],
   "source": [
    "# Data peut être simplement un array \n",
    "serie = pd.Series([1,2,3,4,5])\n",
    "\n",
    "# Data peut être unitaire et sera répliquée sur l'index défini\n",
    "serie = pd.Series(data=5, index=[2, 100, 1000])\n",
    "\n",
    "# Data peut être un dictionnaire comme vu précedemment\n",
    "serie = pd.Series({1:'a', 2:'b', 3:'c'})\n",
    "\n",
    "# On peut filtrer les données en jouant sur l'index\n",
    "serie = pd.Series({1:'a', 2:'b', 3:'c'}, index=[2, 3])"
   ]
  },
  {
   "cell_type": "markdown",
   "metadata": {
    "heading_collapsed": true
   },
   "source": [
    "## Dataframes"
   ]
  },
  {
   "cell_type": "markdown",
   "metadata": {
    "collapsed": true,
    "hidden": true
   },
   "source": [
    "Un dataframe est un tableau rectangulaire de données, qui contient des colonnes ordonnées, chacune pouvant contenir un type de donnée différent. Le Dataframe possède un index sur les lignes, et les colonnes."
   ]
  },
  {
   "cell_type": "markdown",
   "metadata": {
    "hidden": true
   },
   "source": [
    "### Construction"
   ]
  },
  {
   "cell_type": "markdown",
   "metadata": {
    "hidden": true
   },
   "source": [
    "La manière la plus simple de créer un dataframe : passer par un dictionnaire de liste/NP arrays de memes longueur."
   ]
  },
  {
   "cell_type": "code",
   "execution_count": 8,
   "metadata": {
    "ExecuteTime": {
     "end_time": "2018-11-18T15:54:06.506896Z",
     "start_time": "2018-11-18T15:54:06.493790Z"
    },
    "hidden": true,
    "scrolled": true
   },
   "outputs": [
    {
     "data": {
      "text/html": [
       "<div>\n",
       "<style scoped>\n",
       "    .dataframe tbody tr th:only-of-type {\n",
       "        vertical-align: middle;\n",
       "    }\n",
       "\n",
       "    .dataframe tbody tr th {\n",
       "        vertical-align: top;\n",
       "    }\n",
       "\n",
       "    .dataframe thead th {\n",
       "        text-align: right;\n",
       "    }\n",
       "</style>\n",
       "<table border=\"1\" class=\"dataframe\">\n",
       "  <thead>\n",
       "    <tr style=\"text-align: right;\">\n",
       "      <th></th>\n",
       "      <th>model</th>\n",
       "      <th>prix</th>\n",
       "      <th>annee</th>\n",
       "    </tr>\n",
       "  </thead>\n",
       "  <tbody>\n",
       "    <tr>\n",
       "      <th>0</th>\n",
       "      <td>iPhone</td>\n",
       "      <td>1000</td>\n",
       "      <td>2018</td>\n",
       "    </tr>\n",
       "    <tr>\n",
       "      <th>1</th>\n",
       "      <td>iMac</td>\n",
       "      <td>2500</td>\n",
       "      <td>2017</td>\n",
       "    </tr>\n",
       "    <tr>\n",
       "      <th>2</th>\n",
       "      <td>Macbook Air</td>\n",
       "      <td>1200</td>\n",
       "      <td>2018</td>\n",
       "    </tr>\n",
       "    <tr>\n",
       "      <th>3</th>\n",
       "      <td>Macbook Pro</td>\n",
       "      <td>1600</td>\n",
       "      <td>2017</td>\n",
       "    </tr>\n",
       "  </tbody>\n",
       "</table>\n",
       "</div>"
      ],
      "text/plain": [
       "         model  prix  annee\n",
       "0       iPhone  1000   2018\n",
       "1         iMac  2500   2017\n",
       "2  Macbook Air  1200   2018\n",
       "3  Macbook Pro  1600   2017"
      ]
     },
     "execution_count": 8,
     "metadata": {},
     "output_type": "execute_result"
    }
   ],
   "source": [
    "dict = {'model': ['iPhone', 'iMac', 'Macbook Air', 'Macbook Pro'],\n",
    "      'prix': [1000, 2500, 1200, 1600],\n",
    "      'annee': [2018, 2017, 2018, 2017]}\n",
    "df_dict = pd.DataFrame(dict)\n",
    "df_dict.head()"
   ]
  },
  {
   "cell_type": "code",
   "execution_count": 17,
   "metadata": {
    "ExecuteTime": {
     "end_time": "2018-11-18T16:20:32.779232Z",
     "start_time": "2018-11-18T16:20:32.766042Z"
    },
    "hidden": true
   },
   "outputs": [
    {
     "data": {
      "text/html": [
       "<div>\n",
       "<style scoped>\n",
       "    .dataframe tbody tr th:only-of-type {\n",
       "        vertical-align: middle;\n",
       "    }\n",
       "\n",
       "    .dataframe tbody tr th {\n",
       "        vertical-align: top;\n",
       "    }\n",
       "\n",
       "    .dataframe thead th {\n",
       "        text-align: right;\n",
       "    }\n",
       "</style>\n",
       "<table border=\"1\" class=\"dataframe\">\n",
       "  <thead>\n",
       "    <tr style=\"text-align: right;\">\n",
       "      <th></th>\n",
       "      <th>model</th>\n",
       "      <th>prix</th>\n",
       "      <th>annee</th>\n",
       "    </tr>\n",
       "  </thead>\n",
       "  <tbody>\n",
       "    <tr>\n",
       "      <th>un</th>\n",
       "      <td>iPhone</td>\n",
       "      <td>1000</td>\n",
       "      <td>2018</td>\n",
       "    </tr>\n",
       "    <tr>\n",
       "      <th>deux</th>\n",
       "      <td>iMac</td>\n",
       "      <td>2500</td>\n",
       "      <td>2017</td>\n",
       "    </tr>\n",
       "    <tr>\n",
       "      <th>trois</th>\n",
       "      <td>Macbook Air</td>\n",
       "      <td>1200</td>\n",
       "      <td>2018</td>\n",
       "    </tr>\n",
       "    <tr>\n",
       "      <th>quatre</th>\n",
       "      <td>Macbook Pro</td>\n",
       "      <td>1600</td>\n",
       "      <td>2017</td>\n",
       "    </tr>\n",
       "  </tbody>\n",
       "</table>\n",
       "</div>"
      ],
      "text/plain": [
       "              model  prix  annee\n",
       "un           iPhone  1000   2018\n",
       "deux           iMac  2500   2017\n",
       "trois   Macbook Air  1200   2018\n",
       "quatre  Macbook Pro  1600   2017"
      ]
     },
     "execution_count": 17,
     "metadata": {},
     "output_type": "execute_result"
    }
   ],
   "source": [
    "# Modifier l'index du dataframe\n",
    "df_dict_idx = pd.DataFrame(\n",
    "    dict, \n",
    "    columns=['model', 'prix', 'annee'],\n",
    "    index=['un', 'deux', 'trois', 'quatre'])\n",
    "df_dict_idx"
   ]
  },
  {
   "cell_type": "markdown",
   "metadata": {
    "hidden": true
   },
   "source": [
    "### Afficher données"
   ]
  },
  {
   "cell_type": "code",
   "execution_count": 9,
   "metadata": {
    "ExecuteTime": {
     "end_time": "2018-11-18T16:02:27.542062Z",
     "start_time": "2018-11-18T16:02:27.525105Z"
    },
    "hidden": true
   },
   "outputs": [
    {
     "data": {
      "text/html": [
       "<div>\n",
       "<style scoped>\n",
       "    .dataframe tbody tr th:only-of-type {\n",
       "        vertical-align: middle;\n",
       "    }\n",
       "\n",
       "    .dataframe tbody tr th {\n",
       "        vertical-align: top;\n",
       "    }\n",
       "\n",
       "    .dataframe thead th {\n",
       "        text-align: right;\n",
       "    }\n",
       "</style>\n",
       "<table border=\"1\" class=\"dataframe\">\n",
       "  <thead>\n",
       "    <tr style=\"text-align: right;\">\n",
       "      <th></th>\n",
       "      <th>annee</th>\n",
       "      <th>prix</th>\n",
       "      <th>model</th>\n",
       "    </tr>\n",
       "  </thead>\n",
       "  <tbody>\n",
       "    <tr>\n",
       "      <th>0</th>\n",
       "      <td>2018</td>\n",
       "      <td>1000</td>\n",
       "      <td>iPhone</td>\n",
       "    </tr>\n",
       "    <tr>\n",
       "      <th>1</th>\n",
       "      <td>2017</td>\n",
       "      <td>2500</td>\n",
       "      <td>iMac</td>\n",
       "    </tr>\n",
       "    <tr>\n",
       "      <th>2</th>\n",
       "      <td>2018</td>\n",
       "      <td>1200</td>\n",
       "      <td>Macbook Air</td>\n",
       "    </tr>\n",
       "    <tr>\n",
       "      <th>3</th>\n",
       "      <td>2017</td>\n",
       "      <td>1600</td>\n",
       "      <td>Macbook Pro</td>\n",
       "    </tr>\n",
       "  </tbody>\n",
       "</table>\n",
       "</div>"
      ],
      "text/plain": [
       "   annee  prix        model\n",
       "0   2018  1000       iPhone\n",
       "1   2017  2500         iMac\n",
       "2   2018  1200  Macbook Air\n",
       "3   2017  1600  Macbook Pro"
      ]
     },
     "execution_count": 9,
     "metadata": {},
     "output_type": "execute_result"
    }
   ],
   "source": [
    "# Spécifier l'ordre des colonnes\n",
    "pd.DataFrame(df_dict, columns=['annee', 'prix', 'model'])"
   ]
  },
  {
   "cell_type": "code",
   "execution_count": 10,
   "metadata": {
    "ExecuteTime": {
     "end_time": "2018-11-18T16:09:01.630965Z",
     "start_time": "2018-11-18T16:09:01.624468Z"
    },
    "hidden": true
   },
   "outputs": [
    {
     "data": {
      "text/plain": [
       "Index(['model', 'prix', 'annee'], dtype='object')"
      ]
     },
     "execution_count": 10,
     "metadata": {},
     "output_type": "execute_result"
    }
   ],
   "source": [
    "# Recuperer les colonnes\n",
    "df_dict.columns"
   ]
  },
  {
   "cell_type": "code",
   "execution_count": 13,
   "metadata": {
    "ExecuteTime": {
     "end_time": "2018-11-18T16:10:11.601522Z",
     "start_time": "2018-11-18T16:10:11.594302Z"
    },
    "hidden": true
   },
   "outputs": [
    {
     "data": {
      "text/plain": [
       "0         iPhone\n",
       "1           iMac\n",
       "2    Macbook Air\n",
       "3    Macbook Pro\n",
       "Name: model, dtype: object"
      ]
     },
     "execution_count": 13,
     "metadata": {},
     "output_type": "execute_result"
    }
   ],
   "source": [
    "# Requete colonne\n",
    "df_dict.annee\n",
    "df_dict['model']"
   ]
  },
  {
   "cell_type": "code",
   "execution_count": 19,
   "metadata": {
    "ExecuteTime": {
     "end_time": "2018-11-18T16:22:14.568627Z",
     "start_time": "2018-11-18T16:22:14.561722Z"
    },
    "hidden": true
   },
   "outputs": [
    {
     "data": {
      "text/plain": [
       "model    Macbook Air\n",
       "prix            1200\n",
       "annee           2018\n",
       "Name: trois, dtype: object"
      ]
     },
     "execution_count": 19,
     "metadata": {},
     "output_type": "execute_result"
    }
   ],
   "source": [
    "# Les lignes peuvent aussi être recupérées par nom ou position de l'index\n",
    "df_dict_idx.loc['trois']"
   ]
  },
  {
   "cell_type": "code",
   "execution_count": 24,
   "metadata": {
    "ExecuteTime": {
     "end_time": "2018-11-18T16:29:34.966945Z",
     "start_time": "2018-11-18T16:29:34.956631Z"
    },
    "hidden": true
   },
   "outputs": [
    {
     "data": {
      "text/html": [
       "<div>\n",
       "<style scoped>\n",
       "    .dataframe tbody tr th:only-of-type {\n",
       "        vertical-align: middle;\n",
       "    }\n",
       "\n",
       "    .dataframe tbody tr th {\n",
       "        vertical-align: top;\n",
       "    }\n",
       "\n",
       "    .dataframe thead th {\n",
       "        text-align: right;\n",
       "    }\n",
       "</style>\n",
       "<table border=\"1\" class=\"dataframe\">\n",
       "  <thead>\n",
       "    <tr style=\"text-align: right;\">\n",
       "      <th></th>\n",
       "      <th>model</th>\n",
       "      <th>prix</th>\n",
       "      <th>annee</th>\n",
       "      <th>garantie</th>\n",
       "    </tr>\n",
       "  </thead>\n",
       "  <tbody>\n",
       "    <tr>\n",
       "      <th>un</th>\n",
       "      <td>iPhone</td>\n",
       "      <td>1000</td>\n",
       "      <td>2018</td>\n",
       "      <td>12</td>\n",
       "    </tr>\n",
       "    <tr>\n",
       "      <th>deux</th>\n",
       "      <td>iMac</td>\n",
       "      <td>2500</td>\n",
       "      <td>2017</td>\n",
       "      <td>14</td>\n",
       "    </tr>\n",
       "    <tr>\n",
       "      <th>trois</th>\n",
       "      <td>Macbook Air</td>\n",
       "      <td>1200</td>\n",
       "      <td>2018</td>\n",
       "      <td>16</td>\n",
       "    </tr>\n",
       "    <tr>\n",
       "      <th>quatre</th>\n",
       "      <td>Macbook Pro</td>\n",
       "      <td>1600</td>\n",
       "      <td>2017</td>\n",
       "      <td>18</td>\n",
       "    </tr>\n",
       "  </tbody>\n",
       "</table>\n",
       "</div>"
      ],
      "text/plain": [
       "              model  prix  annee  garantie\n",
       "un           iPhone  1000   2018        12\n",
       "deux           iMac  2500   2017        14\n",
       "trois   Macbook Air  1200   2018        16\n",
       "quatre  Macbook Pro  1600   2017        18"
      ]
     },
     "execution_count": 24,
     "metadata": {},
     "output_type": "execute_result"
    }
   ],
   "source": [
    "df_dict_idx['garantie'] = range(12, 20, 2)\n",
    "df_dict_idx"
   ]
  },
  {
   "cell_type": "code",
   "execution_count": 26,
   "metadata": {
    "ExecuteTime": {
     "end_time": "2018-11-18T16:38:22.530448Z",
     "start_time": "2018-11-18T16:38:22.516561Z"
    },
    "hidden": true
   },
   "outputs": [
    {
     "data": {
      "text/html": [
       "<div>\n",
       "<style scoped>\n",
       "    .dataframe tbody tr th:only-of-type {\n",
       "        vertical-align: middle;\n",
       "    }\n",
       "\n",
       "    .dataframe tbody tr th {\n",
       "        vertical-align: top;\n",
       "    }\n",
       "\n",
       "    .dataframe thead th {\n",
       "        text-align: right;\n",
       "    }\n",
       "</style>\n",
       "<table border=\"1\" class=\"dataframe\">\n",
       "  <thead>\n",
       "    <tr style=\"text-align: right;\">\n",
       "      <th></th>\n",
       "      <th>model</th>\n",
       "      <th>prix</th>\n",
       "      <th>annee</th>\n",
       "      <th>garantie</th>\n",
       "    </tr>\n",
       "  </thead>\n",
       "  <tbody>\n",
       "    <tr>\n",
       "      <th>un</th>\n",
       "      <td>iPhone</td>\n",
       "      <td>1000</td>\n",
       "      <td>2018</td>\n",
       "      <td>12</td>\n",
       "    </tr>\n",
       "    <tr>\n",
       "      <th>deux</th>\n",
       "      <td>iMac</td>\n",
       "      <td>2500</td>\n",
       "      <td>2017</td>\n",
       "      <td>16</td>\n",
       "    </tr>\n",
       "    <tr>\n",
       "      <th>trois</th>\n",
       "      <td>Macbook Air</td>\n",
       "      <td>1200</td>\n",
       "      <td>2018</td>\n",
       "      <td>14</td>\n",
       "    </tr>\n",
       "    <tr>\n",
       "      <th>quatre</th>\n",
       "      <td>Macbook Pro</td>\n",
       "      <td>1600</td>\n",
       "      <td>2017</td>\n",
       "      <td>18</td>\n",
       "    </tr>\n",
       "  </tbody>\n",
       "</table>\n",
       "</div>"
      ],
      "text/plain": [
       "              model  prix  annee  garantie\n",
       "un           iPhone  1000   2018        12\n",
       "deux           iMac  2500   2017        16\n",
       "trois   Macbook Air  1200   2018        14\n",
       "quatre  Macbook Pro  1600   2017        18"
      ]
     },
     "execution_count": 26,
     "metadata": {},
     "output_type": "execute_result"
    }
   ],
   "source": [
    "# Ajouter une colonne calée sur l'index\n",
    "add_col = pd.Series(\n",
    "    [12, 14, 16, 18], \n",
    "    index=['un', 'trois', 'deux', 'quatre'])\n",
    "\n",
    "df_dict_idx['garantie'] = add_col\n",
    "df_dict_idx"
   ]
  },
  {
   "cell_type": "code",
   "execution_count": 28,
   "metadata": {
    "ExecuteTime": {
     "end_time": "2018-11-18T16:48:14.794045Z",
     "start_time": "2018-11-18T16:48:14.781997Z"
    },
    "hidden": true
   },
   "outputs": [
    {
     "data": {
      "text/html": [
       "<div>\n",
       "<style scoped>\n",
       "    .dataframe tbody tr th:only-of-type {\n",
       "        vertical-align: middle;\n",
       "    }\n",
       "\n",
       "    .dataframe tbody tr th {\n",
       "        vertical-align: top;\n",
       "    }\n",
       "\n",
       "    .dataframe thead th {\n",
       "        text-align: right;\n",
       "    }\n",
       "</style>\n",
       "<table border=\"1\" class=\"dataframe\">\n",
       "  <thead>\n",
       "    <tr style=\"text-align: right;\">\n",
       "      <th></th>\n",
       "      <th>model</th>\n",
       "      <th>prix</th>\n",
       "      <th>annee</th>\n",
       "      <th>garantie</th>\n",
       "      <th>durable</th>\n",
       "    </tr>\n",
       "  </thead>\n",
       "  <tbody>\n",
       "    <tr>\n",
       "      <th>un</th>\n",
       "      <td>iPhone</td>\n",
       "      <td>1000</td>\n",
       "      <td>2018</td>\n",
       "      <td>12</td>\n",
       "      <td>False</td>\n",
       "    </tr>\n",
       "    <tr>\n",
       "      <th>deux</th>\n",
       "      <td>iMac</td>\n",
       "      <td>2500</td>\n",
       "      <td>2017</td>\n",
       "      <td>16</td>\n",
       "      <td>False</td>\n",
       "    </tr>\n",
       "    <tr>\n",
       "      <th>trois</th>\n",
       "      <td>Macbook Air</td>\n",
       "      <td>1200</td>\n",
       "      <td>2018</td>\n",
       "      <td>14</td>\n",
       "      <td>False</td>\n",
       "    </tr>\n",
       "    <tr>\n",
       "      <th>quatre</th>\n",
       "      <td>Macbook Pro</td>\n",
       "      <td>1600</td>\n",
       "      <td>2017</td>\n",
       "      <td>18</td>\n",
       "      <td>False</td>\n",
       "    </tr>\n",
       "  </tbody>\n",
       "</table>\n",
       "</div>"
      ],
      "text/plain": [
       "              model  prix  annee  garantie  durable\n",
       "un           iPhone  1000   2018        12    False\n",
       "deux           iMac  2500   2017        16    False\n",
       "trois   Macbook Air  1200   2018        14    False\n",
       "quatre  Macbook Pro  1600   2017        18    False"
      ]
     },
     "execution_count": 28,
     "metadata": {},
     "output_type": "execute_result"
    }
   ],
   "source": [
    "# Ajouter colonne sur condition\n",
    "df_dict_idx['durable'] = df_dict_idx.garantie > 18\n",
    "df_dict_idx"
   ]
  },
  {
   "cell_type": "code",
   "execution_count": 29,
   "metadata": {
    "ExecuteTime": {
     "end_time": "2018-11-18T16:49:49.899269Z",
     "start_time": "2018-11-18T16:49:49.888357Z"
    },
    "hidden": true
   },
   "outputs": [
    {
     "data": {
      "text/html": [
       "<div>\n",
       "<style scoped>\n",
       "    .dataframe tbody tr th:only-of-type {\n",
       "        vertical-align: middle;\n",
       "    }\n",
       "\n",
       "    .dataframe tbody tr th {\n",
       "        vertical-align: top;\n",
       "    }\n",
       "\n",
       "    .dataframe thead th {\n",
       "        text-align: right;\n",
       "    }\n",
       "</style>\n",
       "<table border=\"1\" class=\"dataframe\">\n",
       "  <thead>\n",
       "    <tr style=\"text-align: right;\">\n",
       "      <th></th>\n",
       "      <th>model</th>\n",
       "      <th>prix</th>\n",
       "      <th>annee</th>\n",
       "      <th>garantie</th>\n",
       "    </tr>\n",
       "  </thead>\n",
       "  <tbody>\n",
       "    <tr>\n",
       "      <th>un</th>\n",
       "      <td>iPhone</td>\n",
       "      <td>1000</td>\n",
       "      <td>2018</td>\n",
       "      <td>12</td>\n",
       "    </tr>\n",
       "    <tr>\n",
       "      <th>deux</th>\n",
       "      <td>iMac</td>\n",
       "      <td>2500</td>\n",
       "      <td>2017</td>\n",
       "      <td>16</td>\n",
       "    </tr>\n",
       "    <tr>\n",
       "      <th>trois</th>\n",
       "      <td>Macbook Air</td>\n",
       "      <td>1200</td>\n",
       "      <td>2018</td>\n",
       "      <td>14</td>\n",
       "    </tr>\n",
       "    <tr>\n",
       "      <th>quatre</th>\n",
       "      <td>Macbook Pro</td>\n",
       "      <td>1600</td>\n",
       "      <td>2017</td>\n",
       "      <td>18</td>\n",
       "    </tr>\n",
       "  </tbody>\n",
       "</table>\n",
       "</div>"
      ],
      "text/plain": [
       "              model  prix  annee  garantie\n",
       "un           iPhone  1000   2018        12\n",
       "deux           iMac  2500   2017        16\n",
       "trois   Macbook Air  1200   2018        14\n",
       "quatre  Macbook Pro  1600   2017        18"
      ]
     },
     "execution_count": 29,
     "metadata": {},
     "output_type": "execute_result"
    }
   ],
   "source": [
    "# Supprimer colonne\n",
    "del df_dict_idx['durable']\n",
    "df_dict_idx"
   ]
  },
  {
   "cell_type": "code",
   "execution_count": 36,
   "metadata": {
    "ExecuteTime": {
     "end_time": "2018-11-18T17:36:25.567192Z",
     "start_time": "2018-11-18T17:36:25.551447Z"
    },
    "hidden": true
   },
   "outputs": [
    {
     "name": "stdout",
     "output_type": "stream",
     "text": [
      "      Nevada  Ohio\n",
      "2000     2.1   1.5\n",
      "2001     2.4   1.7\n",
      "2002     2.9   3.6\n",
      "        2000  2001  2002\n",
      "Nevada   2.1   2.4   2.9\n",
      "Ohio     1.5   1.7   3.6\n"
     ]
    }
   ],
   "source": [
    "# Autre manière : nested dist of dicts\n",
    "# Clés exterieures : Colonnes\n",
    "# Clés interieures : Row index\n",
    "\n",
    "pop = {'Nevada': {2000: 2.1, 2001: 2.4, 2002: 2.9},\n",
    "      'Ohio': {2000: 1.5, 2001: 1.7, 2002: 3.6}}\n",
    "frame = pd.DataFrame(pop)\n",
    "print(frame)\n",
    "print(frame.T)"
   ]
  },
  {
   "cell_type": "code",
   "execution_count": 44,
   "metadata": {
    "ExecuteTime": {
     "end_time": "2018-11-18T18:00:42.974067Z",
     "start_time": "2018-11-18T18:00:42.968049Z"
    },
    "collapsed": true,
    "hidden": true
   },
   "outputs": [],
   "source": [
    "pdata = {'Ohio': frame['Ohio'][:-1],\n",
    "        'Nevada': frame['Nevada'][:2]}\n",
    "frame2 = pd.DataFrame(pdata)"
   ]
  },
  {
   "cell_type": "code",
   "execution_count": 47,
   "metadata": {
    "ExecuteTime": {
     "end_time": "2018-11-18T18:04:43.618591Z",
     "start_time": "2018-11-18T18:04:43.611491Z"
    },
    "hidden": true
   },
   "outputs": [
    {
     "data": {
      "text/plain": [
       "array([[1.5, 2.1],\n",
       "       [1.7, 2.4]])"
      ]
     },
     "execution_count": 47,
     "metadata": {},
     "output_type": "execute_result"
    }
   ],
   "source": [
    "frame2.index.name = 'year'\n",
    "frame2.columns.name = 'state'\n",
    "frame2.values"
   ]
  },
  {
   "cell_type": "markdown",
   "metadata": {},
   "source": [
    "## Objet Index"
   ]
  },
  {
   "cell_type": "code",
   "execution_count": null,
   "metadata": {
    "collapsed": true
   },
   "outputs": [],
   "source": []
  },
  {
   "cell_type": "code",
   "execution_count": null,
   "metadata": {
    "collapsed": true
   },
   "outputs": [],
   "source": []
  },
  {
   "cell_type": "markdown",
   "metadata": {
    "collapsed": true
   },
   "source": [
    "## Enumerate"
   ]
  },
  {
   "cell_type": "code",
   "execution_count": 5,
   "metadata": {
    "ExecuteTime": {
     "end_time": "2018-11-21T13:09:03.935746Z",
     "start_time": "2018-11-21T13:09:03.927467Z"
    }
   },
   "outputs": [
    {
     "name": "stdout",
     "output_type": "stream",
     "text": [
      "1 apple\n",
      "2 banana\n",
      "3 grapes\n",
      "4 pear\n"
     ]
    }
   ],
   "source": [
    "my_list = ['apple', 'banana', 'grapes', 'pear']\n",
    "for c, value in enumerate(my_list, 1):\n",
    "    print(c, value)"
   ]
  },
  {
   "cell_type": "code",
   "execution_count": null,
   "metadata": {
    "collapsed": true
   },
   "outputs": [],
   "source": []
  },
  {
   "cell_type": "code",
   "execution_count": null,
   "metadata": {
    "collapsed": true
   },
   "outputs": [],
   "source": []
  }
 ],
 "metadata": {
  "kernelspec": {
   "display_name": "Python 3",
   "language": "python",
   "name": "python3"
  },
  "language_info": {
   "codemirror_mode": {
    "name": "ipython",
    "version": 3
   },
   "file_extension": ".py",
   "mimetype": "text/x-python",
   "name": "python",
   "nbconvert_exporter": "python",
   "pygments_lexer": "ipython3",
   "version": "3.6.2"
  },
  "toc": {
   "base_numbering": 1,
   "nav_menu": {},
   "number_sections": true,
   "sideBar": true,
   "skip_h1_title": false,
   "title_cell": "Table of Contents",
   "title_sidebar": "Contents",
   "toc_cell": false,
   "toc_position": {},
   "toc_section_display": true,
   "toc_window_display": false
  }
 },
 "nbformat": 4,
 "nbformat_minor": 2
}
