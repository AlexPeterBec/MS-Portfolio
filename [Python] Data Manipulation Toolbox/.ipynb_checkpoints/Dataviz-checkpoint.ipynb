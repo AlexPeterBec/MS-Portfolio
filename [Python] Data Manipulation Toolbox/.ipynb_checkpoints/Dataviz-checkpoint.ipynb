{
 "cells": [
  {
   "cell_type": "markdown",
   "metadata": {},
   "source": [
    "# Data Manipulation Toolbox\n",
    "\n",
    "#### Summary :\n",
    "- Données source\n",
    "- Histogramme : Distribution d'une variable\n"
   ]
  },
  {
   "cell_type": "code",
   "execution_count": 11,
   "metadata": {
    "collapsed": true
   },
   "outputs": [],
   "source": [
    "import pandas as pd\n",
    "import matplotlib.pyplot as plt"
   ]
  },
  {
   "cell_type": "code",
   "execution_count": 26,
   "metadata": {},
   "outputs": [
    {
     "name": "stdout",
     "output_type": "stream",
     "text": [
      "  column1\n",
      "0       3\n",
      "1       2\n",
      "2       2\n",
      "3       2\n"
     ]
    }
   ],
   "source": [
    "# Single Line DataFrame\n",
    "line = [\"3\",\"2\",\"2\",\"2\",\"1\",\"2\",\"2\",\"2\",\"2\",\"1\",\"2\",\"2\"]\n",
    "df_single = pd.DataFrame({'column1':line})\n",
    "print(df_single.head(4))"
   ]
  },
  {
   "cell_type": "code",
   "execution_count": 27,
   "metadata": {},
   "outputs": [
    {
     "data": {
      "image/png": "[encoded data removed]",
      "text/plain": [
       "<matplotlib.figure.Figure at 0x11a522860>"
      ]
     },
     "metadata": {},
     "output_type": "display_data"
    }
   ],
   "source": [
    "# Histogramme : Distribution d'une variable\n",
    "\n",
    "groupby_family = df_single['column1'].groupby(df_single['column1']).count()\n",
    "plt.figure()\n",
    "plt.hist(groupby_family, normed=True)\n",
    "plt.xlabel('Number of children', fontsize=18)\n",
    "plt.ylabel('Density', fontsize=18)\n",
    "plt.title(\"Nombre d'enfants par famille\")\n",
    "plt.show()"
   ]
  },
  {
   "cell_type": "code",
   "execution_count": null,
   "metadata": {
    "collapsed": true
   },
   "outputs": [],
   "source": []
  }
 ],
 "metadata": {
  "kernelspec": {
   "display_name": "Python 3",
   "language": "python",
   "name": "python3"
  },
  "language_info": {
   "codemirror_mode": {
    "name": "ipython",
    "version": 3
   },
   "file_extension": ".py",
   "mimetype": "text/x-python",
   "name": "python",
   "nbconvert_exporter": "python",
   "pygments_lexer": "ipython3",
   "version": "3.6.2"
  }
 },
 "nbformat": 4,
 "nbformat_minor": 2
}
